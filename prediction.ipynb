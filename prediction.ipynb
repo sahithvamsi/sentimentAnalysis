{
 "cells": [
  {
   "cell_type": "code",
   "execution_count": 34,
   "metadata": {},
   "outputs": [],
   "source": [
    "# Step 1: Import Libraries and Load the Model\n",
    "import numpy as np\n",
    "import tensorflow as tf\n",
    "from tensorflow.keras.datasets import imdb\n",
    "from tensorflow.keras.preprocessing import sequence\n",
    "from tensorflow.keras.models import load_model"
   ]
  },
  {
   "cell_type": "code",
   "execution_count": 35,
   "metadata": {},
   "outputs": [],
   "source": [
    "\n",
    "# Load the IMDB dataset word index\n",
    "word_index = imdb.get_word_index()\n",
    "reverse_word_index = {value: key for key, value in word_index.items()}"
   ]
  },
  {
   "cell_type": "code",
   "execution_count": 36,
   "metadata": {},
   "outputs": [
    {
     "name": "stderr",
     "output_type": "stream",
     "text": [
      "WARNING:absl:Compiled the loaded model, but the compiled metrics have yet to be built. `model.compile_metrics` will be empty until you train or evaluate the model.\n"
     ]
    },
    {
     "data": {
      "text/html": [
       "<pre style=\"white-space:pre;overflow-x:auto;line-height:normal;font-family:Menlo,'DejaVu Sans Mono',consolas,'Courier New',monospace\"><span style=\"font-weight: bold\">Model: \"sequential_1\"</span>\n",
       "</pre>\n"
      ],
      "text/plain": [
       "\u001b[1mModel: \"sequential_1\"\u001b[0m\n"
      ]
     },
     "metadata": {},
     "output_type": "display_data"
    },
    {
     "data": {
      "text/html": [
       "<pre style=\"white-space:pre;overflow-x:auto;line-height:normal;font-family:Menlo,'DejaVu Sans Mono',consolas,'Courier New',monospace\">┏━━━━━━━━━━━━━━━━━━━━━━━━━━━━━━━━━┳━━━━━━━━━━━━━━━━━━━━━━━━┳━━━━━━━━━━━━━━━┓\n",
       "┃<span style=\"font-weight: bold\"> Layer (type)                    </span>┃<span style=\"font-weight: bold\"> Output Shape           </span>┃<span style=\"font-weight: bold\">       Param # </span>┃\n",
       "┡━━━━━━━━━━━━━━━━━━━━━━━━━━━━━━━━━╇━━━━━━━━━━━━━━━━━━━━━━━━╇━━━━━━━━━━━━━━━┩\n",
       "│ embedding_1 (<span style=\"color: #0087ff; text-decoration-color: #0087ff\">Embedding</span>)         │ (<span style=\"color: #00af00; text-decoration-color: #00af00\">32</span>, <span style=\"color: #00af00; text-decoration-color: #00af00\">500</span>, <span style=\"color: #00af00; text-decoration-color: #00af00\">128</span>)         │     <span style=\"color: #00af00; text-decoration-color: #00af00\">1,280,000</span> │\n",
       "├─────────────────────────────────┼────────────────────────┼───────────────┤\n",
       "│ simple_rnn_1 (<span style=\"color: #0087ff; text-decoration-color: #0087ff\">SimpleRNN</span>)        │ (<span style=\"color: #00af00; text-decoration-color: #00af00\">32</span>, <span style=\"color: #00af00; text-decoration-color: #00af00\">128</span>)              │        <span style=\"color: #00af00; text-decoration-color: #00af00\">32,896</span> │\n",
       "├─────────────────────────────────┼────────────────────────┼───────────────┤\n",
       "│ dense_1 (<span style=\"color: #0087ff; text-decoration-color: #0087ff\">Dense</span>)                 │ (<span style=\"color: #00af00; text-decoration-color: #00af00\">32</span>, <span style=\"color: #00af00; text-decoration-color: #00af00\">1</span>)                │           <span style=\"color: #00af00; text-decoration-color: #00af00\">129</span> │\n",
       "└─────────────────────────────────┴────────────────────────┴───────────────┘\n",
       "</pre>\n"
      ],
      "text/plain": [
       "┏━━━━━━━━━━━━━━━━━━━━━━━━━━━━━━━━━┳━━━━━━━━━━━━━━━━━━━━━━━━┳━━━━━━━━━━━━━━━┓\n",
       "┃\u001b[1m \u001b[0m\u001b[1mLayer (type)                   \u001b[0m\u001b[1m \u001b[0m┃\u001b[1m \u001b[0m\u001b[1mOutput Shape          \u001b[0m\u001b[1m \u001b[0m┃\u001b[1m \u001b[0m\u001b[1m      Param #\u001b[0m\u001b[1m \u001b[0m┃\n",
       "┡━━━━━━━━━━━━━━━━━━━━━━━━━━━━━━━━━╇━━━━━━━━━━━━━━━━━━━━━━━━╇━━━━━━━━━━━━━━━┩\n",
       "│ embedding_1 (\u001b[38;5;33mEmbedding\u001b[0m)         │ (\u001b[38;5;34m32\u001b[0m, \u001b[38;5;34m500\u001b[0m, \u001b[38;5;34m128\u001b[0m)         │     \u001b[38;5;34m1,280,000\u001b[0m │\n",
       "├─────────────────────────────────┼────────────────────────┼───────────────┤\n",
       "│ simple_rnn_1 (\u001b[38;5;33mSimpleRNN\u001b[0m)        │ (\u001b[38;5;34m32\u001b[0m, \u001b[38;5;34m128\u001b[0m)              │        \u001b[38;5;34m32,896\u001b[0m │\n",
       "├─────────────────────────────────┼────────────────────────┼───────────────┤\n",
       "│ dense_1 (\u001b[38;5;33mDense\u001b[0m)                 │ (\u001b[38;5;34m32\u001b[0m, \u001b[38;5;34m1\u001b[0m)                │           \u001b[38;5;34m129\u001b[0m │\n",
       "└─────────────────────────────────┴────────────────────────┴───────────────┘\n"
      ]
     },
     "metadata": {},
     "output_type": "display_data"
    },
    {
     "data": {
      "text/html": [
       "<pre style=\"white-space:pre;overflow-x:auto;line-height:normal;font-family:Menlo,'DejaVu Sans Mono',consolas,'Courier New',monospace\"><span style=\"font-weight: bold\"> Total params: </span><span style=\"color: #00af00; text-decoration-color: #00af00\">1,313,027</span> (5.01 MB)\n",
       "</pre>\n"
      ],
      "text/plain": [
       "\u001b[1m Total params: \u001b[0m\u001b[38;5;34m1,313,027\u001b[0m (5.01 MB)\n"
      ]
     },
     "metadata": {},
     "output_type": "display_data"
    },
    {
     "data": {
      "text/html": [
       "<pre style=\"white-space:pre;overflow-x:auto;line-height:normal;font-family:Menlo,'DejaVu Sans Mono',consolas,'Courier New',monospace\"><span style=\"font-weight: bold\"> Trainable params: </span><span style=\"color: #00af00; text-decoration-color: #00af00\">1,313,025</span> (5.01 MB)\n",
       "</pre>\n"
      ],
      "text/plain": [
       "\u001b[1m Trainable params: \u001b[0m\u001b[38;5;34m1,313,025\u001b[0m (5.01 MB)\n"
      ]
     },
     "metadata": {},
     "output_type": "display_data"
    },
    {
     "data": {
      "text/html": [
       "<pre style=\"white-space:pre;overflow-x:auto;line-height:normal;font-family:Menlo,'DejaVu Sans Mono',consolas,'Courier New',monospace\"><span style=\"font-weight: bold\"> Non-trainable params: </span><span style=\"color: #00af00; text-decoration-color: #00af00\">0</span> (0.00 B)\n",
       "</pre>\n"
      ],
      "text/plain": [
       "\u001b[1m Non-trainable params: \u001b[0m\u001b[38;5;34m0\u001b[0m (0.00 B)\n"
      ]
     },
     "metadata": {},
     "output_type": "display_data"
    },
    {
     "data": {
      "text/html": [
       "<pre style=\"white-space:pre;overflow-x:auto;line-height:normal;font-family:Menlo,'DejaVu Sans Mono',consolas,'Courier New',monospace\"><span style=\"font-weight: bold\"> Optimizer params: </span><span style=\"color: #00af00; text-decoration-color: #00af00\">2</span> (12.00 B)\n",
       "</pre>\n"
      ],
      "text/plain": [
       "\u001b[1m Optimizer params: \u001b[0m\u001b[38;5;34m2\u001b[0m (12.00 B)\n"
      ]
     },
     "metadata": {},
     "output_type": "display_data"
    }
   ],
   "source": [
    "# Load the pre-trained model with ReLU activation\n",
    "model = load_model('simple_rnn_imdb.h5')\n",
    "model.summary()"
   ]
  },
  {
   "cell_type": "code",
   "execution_count": 37,
   "metadata": {},
   "outputs": [
    {
     "data": {
      "text/plain": [
       "[array([[-1.265825  ,  1.1097766 , -1.2344154 , ..., -1.0638843 ,\n",
       "         -0.5577998 ,  0.38661715],\n",
       "        [-0.07674265,  0.12151814,  0.00461473, ..., -0.09830356,\n",
       "          0.00752976,  0.02975623],\n",
       "        [-0.2373863 ,  0.06025998, -0.23813576, ...,  0.00748855,\n",
       "         -0.05126275, -0.00642986],\n",
       "        ...,\n",
       "        [-0.09112553, -0.00517377, -0.04193277, ..., -0.02442291,\n",
       "         -0.06295376, -0.05437889],\n",
       "        [ 0.01784551, -0.1101976 , -0.0149848 , ...,  0.03495579,\n",
       "          0.04935352,  0.16207704],\n",
       "        [-0.01252469,  0.00157054, -0.05221216, ...,  0.12220832,\n",
       "          0.05416204,  0.12973034]], dtype=float32),\n",
       " array([[ 0.10407658,  0.13374609,  0.03770933, ...,  0.10660752,\n",
       "          0.14352053,  0.1302291 ],\n",
       "        [ 0.10363737,  0.05266969,  0.10544735, ...,  0.03478666,\n",
       "         -0.16033766, -0.15765262],\n",
       "        [ 0.08651055, -0.07111733, -0.01468294, ...,  0.11746722,\n",
       "          0.15594994,  0.06602052],\n",
       "        ...,\n",
       "        [ 0.04537828,  0.12152103,  0.135318  , ...,  0.12743402,\n",
       "          0.00666844, -0.01847309],\n",
       "        [ 0.06248723,  0.10187466, -0.05766544, ..., -0.02639552,\n",
       "         -0.15307713, -0.02395483],\n",
       "        [-0.21616912, -0.00687311, -0.09079753, ...,  0.13122304,\n",
       "          0.197891  ,  0.1161027 ]], dtype=float32),\n",
       " array([[ 0.10429105,  0.0066803 ,  0.05952492, ...,  0.11211542,\n",
       "         -0.15796208, -0.018267  ],\n",
       "        [ 0.00292193,  0.02615923,  0.0925027 , ..., -0.11352135,\n",
       "          0.03856751,  0.06626947],\n",
       "        [-0.07152858, -0.03096913, -0.12428538, ..., -0.07983372,\n",
       "          0.04376308, -0.13261443],\n",
       "        ...,\n",
       "        [ 0.01630124, -0.05650441, -0.03740273, ..., -0.22117473,\n",
       "         -0.08729257, -0.10320753],\n",
       "        [ 0.08064525, -0.05763645, -0.01018639, ..., -0.06108647,\n",
       "         -0.1109449 ,  0.05171124],\n",
       "        [ 0.14514956,  0.04347986,  0.36014596, ..., -0.03623608,\n",
       "          0.07948679,  0.0169409 ]], dtype=float32),\n",
       " array([ 0.01716946, -0.04658383,  0.03524454, -0.03681501, -0.00539263,\n",
       "         0.01514672, -0.06173901, -0.0418931 , -0.01771685, -0.02638225,\n",
       "        -0.00428497, -0.02401193,  0.056077  , -0.01702829,  0.0736516 ,\n",
       "        -0.02644839,  0.0265827 , -0.05708314,  0.02393375,  0.03522972,\n",
       "        -0.03000659,  0.0144978 ,  0.02204609,  0.02023368, -0.01705221,\n",
       "         0.03171524,  0.01804415, -0.01802942, -0.05659395,  0.00935273,\n",
       "         0.02021023,  0.00522704,  0.04795917,  0.01400266, -0.03459281,\n",
       "         0.03329546, -0.02981415, -0.00223037, -0.02357803,  0.03570763,\n",
       "         0.03791668, -0.00454862, -0.0684585 , -0.0567953 , -0.02498889,\n",
       "        -0.05441878,  0.07004032,  0.01357173, -0.03807075,  0.0234775 ,\n",
       "        -0.01585088, -0.06048873,  0.01132313,  0.01370423, -0.05535035,\n",
       "         0.00658105,  0.02951949, -0.04023534, -0.05861523, -0.04951006,\n",
       "        -0.05003598, -0.06702924, -0.05343861,  0.0095567 ,  0.09541102,\n",
       "        -0.04708247, -0.05953064, -0.00031482, -0.03844915, -0.07102833,\n",
       "        -0.03523283,  0.00942368, -0.01175806, -0.06667542, -0.0574398 ,\n",
       "        -0.02200091, -0.03685255,  0.00343731,  0.02787266, -0.01340173,\n",
       "        -0.0438453 ,  0.04234073, -0.05324991, -0.06552304,  0.02682587,\n",
       "        -0.03456011, -0.03728031, -0.06614432, -0.01418348,  0.03223556,\n",
       "        -0.05836532, -0.00062838,  0.12842453,  0.00108878, -0.01123211,\n",
       "        -0.02227373,  0.01338419, -0.04148637, -0.03103639, -0.00024836,\n",
       "        -0.0407863 , -0.028869  ,  0.01827023, -0.01942305,  0.05530492,\n",
       "        -0.03845701,  0.03680353, -0.05616057,  0.05340879,  0.01344796,\n",
       "        -0.02476945, -0.00074878, -0.03330853, -0.0163246 , -0.04068568,\n",
       "        -0.0845199 , -0.0818851 , -0.01306621, -0.06762816, -0.05813866,\n",
       "        -0.07538899,  0.0385962 ,  0.04041472,  0.03063639, -0.01855648,\n",
       "         0.02754503, -0.04654317, -0.00065227], dtype=float32),\n",
       " array([[ 0.1640614 ],\n",
       "        [ 0.29057238],\n",
       "        [ 0.3287946 ],\n",
       "        [-0.14088088],\n",
       "        [-0.04239145],\n",
       "        [ 0.07759247],\n",
       "        [ 0.19316645],\n",
       "        [ 0.19476664],\n",
       "        [-0.5646973 ],\n",
       "        [-0.03996887],\n",
       "        [-0.19696769],\n",
       "        [-0.07214248],\n",
       "        [ 0.22800353],\n",
       "        [ 0.09188671],\n",
       "        [-0.74918824],\n",
       "        [ 0.07179575],\n",
       "        [-0.04458977],\n",
       "        [-0.07167368],\n",
       "        [ 0.24065113],\n",
       "        [ 0.22539793],\n",
       "        [ 0.01278856],\n",
       "        [ 0.09945493],\n",
       "        [ 0.15658756],\n",
       "        [ 0.345268  ],\n",
       "        [ 0.18517928],\n",
       "        [ 0.01097008],\n",
       "        [ 0.18432988],\n",
       "        [ 0.06314724],\n",
       "        [-0.06164344],\n",
       "        [ 0.01891251],\n",
       "        [-0.75499016],\n",
       "        [ 0.15505137],\n",
       "        [ 0.20990035],\n",
       "        [ 0.09176686],\n",
       "        [-0.09626123],\n",
       "        [-0.08944739],\n",
       "        [ 0.16566399],\n",
       "        [ 0.21917707],\n",
       "        [-0.1449371 ],\n",
       "        [ 0.19516413],\n",
       "        [ 0.08272491],\n",
       "        [-0.07562925],\n",
       "        [-0.06136272],\n",
       "        [ 0.15406165],\n",
       "        [-0.04622494],\n",
       "        [-0.11171006],\n",
       "        [ 0.2225305 ],\n",
       "        [ 0.16494507],\n",
       "        [ 0.06219933],\n",
       "        [ 0.10588264],\n",
       "        [-0.23593058],\n",
       "        [-0.10469797],\n",
       "        [-0.1515827 ],\n",
       "        [ 0.03648263],\n",
       "        [-0.20164551],\n",
       "        [ 0.12745643],\n",
       "        [ 0.33729655],\n",
       "        [ 0.3132102 ],\n",
       "        [-0.1635747 ],\n",
       "        [-0.12114415],\n",
       "        [ 0.17944632],\n",
       "        [-0.11946373],\n",
       "        [-0.13264538],\n",
       "        [ 0.00709117],\n",
       "        [-0.105638  ],\n",
       "        [ 0.1532453 ],\n",
       "        [-0.08300135],\n",
       "        [-0.07939719],\n",
       "        [ 0.17192142],\n",
       "        [-0.16493863],\n",
       "        [ 0.184111  ],\n",
       "        [ 0.1436572 ],\n",
       "        [-0.04535958],\n",
       "        [-0.02767258],\n",
       "        [-0.17198727],\n",
       "        [ 0.09054187],\n",
       "        [-0.28995895],\n",
       "        [ 0.11047071],\n",
       "        [-0.09491334],\n",
       "        [-0.16726774],\n",
       "        [ 0.09265794],\n",
       "        [ 0.10284045],\n",
       "        [-0.19831133],\n",
       "        [-0.03424236],\n",
       "        [-0.04921021],\n",
       "        [-0.02246864],\n",
       "        [ 0.23356418],\n",
       "        [-0.20166811],\n",
       "        [ 0.2071289 ],\n",
       "        [ 0.16396601],\n",
       "        [-0.16479856],\n",
       "        [ 0.08186518],\n",
       "        [ 0.07267752],\n",
       "        [-0.02489742],\n",
       "        [ 0.17256911],\n",
       "        [-0.140278  ],\n",
       "        [-0.29975736],\n",
       "        [-0.22375774],\n",
       "        [-0.04613952],\n",
       "        [-0.21734352],\n",
       "        [ 0.16612779],\n",
       "        [-0.0351272 ],\n",
       "        [ 0.08409327],\n",
       "        [-0.17230286],\n",
       "        [ 0.09678803],\n",
       "        [-0.03050212],\n",
       "        [-0.15683958],\n",
       "        [ 0.5968103 ],\n",
       "        [-0.12810329],\n",
       "        [-0.18133405],\n",
       "        [-0.21252172],\n",
       "        [ 0.04933085],\n",
       "        [-0.10697568],\n",
       "        [ 0.05993129],\n",
       "        [ 0.36424845],\n",
       "        [-0.01705252],\n",
       "        [-0.01008154],\n",
       "        [ 0.10597757],\n",
       "        [-0.17080116],\n",
       "        [ 0.03226825],\n",
       "        [-0.16645278],\n",
       "        [-0.1995805 ],\n",
       "        [-0.55034345],\n",
       "        [ 0.109826  ],\n",
       "        [-0.09559423],\n",
       "        [ 0.07929363],\n",
       "        [-0.34568816],\n",
       "        [-0.1089391 ]], dtype=float32),\n",
       " array([-1.0523242], dtype=float32)]"
      ]
     },
     "execution_count": 37,
     "metadata": {},
     "output_type": "execute_result"
    }
   ],
   "source": [
    "model.get_weights()"
   ]
  },
  {
   "cell_type": "code",
   "execution_count": 38,
   "metadata": {},
   "outputs": [],
   "source": [
    "# Step 2: Helper Functions\n",
    "# Function to decode reviews\n",
    "def decode_review(encoded_review):\n",
    "    return ' '.join([reverse_word_index.get(i - 3, '?') for i in encoded_review])\n",
    "\n",
    "# Function to preprocess user input\n",
    "def preprocess_text(text):\n",
    "    words = text.lower().split()\n",
    "    encoded_review = [word_index.get(word, 2) + 3 for word in words]\n",
    "    padded_review = sequence.pad_sequences([encoded_review], maxlen=500)\n",
    "    return padded_review"
   ]
  },
  {
   "cell_type": "code",
   "execution_count": 39,
   "metadata": {},
   "outputs": [],
   "source": [
    "### Prediction  function\n",
    "\n",
    "def predict_sentiment(review):\n",
    "    preprocessed_input=preprocess_text(review)\n",
    "\n",
    "    prediction=model.predict(preprocessed_input)\n",
    "\n",
    "    sentiment = 'Positive' if prediction[0][0] > 0.5 else 'Negative'\n",
    "    \n",
    "    return sentiment, prediction[0][0]\n",
    "\n"
   ]
  },
  {
   "cell_type": "code",
   "execution_count": 40,
   "metadata": {},
   "outputs": [
    {
     "name": "stdout",
     "output_type": "stream",
     "text": [
      "WARNING:tensorflow:5 out of the last 10 calls to <function TensorFlowTrainer.make_predict_function.<locals>.one_step_on_data_distributed at 0x0000021BAF7D1760> triggered tf.function retracing. Tracing is expensive and the excessive number of tracings could be due to (1) creating @tf.function repeatedly in a loop, (2) passing tensors with different shapes, (3) passing Python objects instead of tensors. For (1), please define your @tf.function outside of the loop. For (2), @tf.function has reduce_retracing=True option that can avoid unnecessary retracing. For (3), please refer to https://www.tensorflow.org/guide/function#controlling_retracing and https://www.tensorflow.org/api_docs/python/tf/function for  more details.\n"
     ]
    },
    {
     "name": "stderr",
     "output_type": "stream",
     "text": [
      "WARNING:tensorflow:5 out of the last 10 calls to <function TensorFlowTrainer.make_predict_function.<locals>.one_step_on_data_distributed at 0x0000021BAF7D1760> triggered tf.function retracing. Tracing is expensive and the excessive number of tracings could be due to (1) creating @tf.function repeatedly in a loop, (2) passing tensors with different shapes, (3) passing Python objects instead of tensors. For (1), please define your @tf.function outside of the loop. For (2), @tf.function has reduce_retracing=True option that can avoid unnecessary retracing. For (3), please refer to https://www.tensorflow.org/guide/function#controlling_retracing and https://www.tensorflow.org/api_docs/python/tf/function for  more details.\n"
     ]
    },
    {
     "name": "stdout",
     "output_type": "stream",
     "text": [
      "\u001b[1m1/1\u001b[0m \u001b[32m━━━━━━━━━━━━━━━━━━━━\u001b[0m\u001b[37m\u001b[0m \u001b[1m0s\u001b[0m 249ms/step\n",
      "Review: This movie was fantastic! The acting was great and the plot was thrilling.\n",
      "Sentiment: Positive\n",
      "Prediction Score: 0.8397806286811829\n"
     ]
    }
   ],
   "source": [
    "# Step 4: User Input and Prediction\n",
    "# Example review for prediction\n",
    "example_review = \"This movie was fantastic! The acting was great and the plot was thrilling.\"\n",
    "\n",
    "sentiment,score=predict_sentiment(example_review)\n",
    "\n",
    "print(f'Review: {example_review}')\n",
    "print(f'Sentiment: {sentiment}')\n",
    "print(f'Prediction Score: {score}')"
   ]
  },
  {
   "cell_type": "code",
   "execution_count": null,
   "metadata": {},
   "outputs": [],
   "source": []
  },
  {
   "cell_type": "code",
   "execution_count": null,
   "metadata": {},
   "outputs": [],
   "source": []
  },
  {
   "cell_type": "code",
   "execution_count": null,
   "metadata": {},
   "outputs": [],
   "source": []
  },
  {
   "cell_type": "code",
   "execution_count": null,
   "metadata": {},
   "outputs": [],
   "source": []
  }
 ],
 "metadata": {
  "kernelspec": {
   "display_name": "venv",
   "language": "python",
   "name": "python3"
  },
  "language_info": {
   "codemirror_mode": {
    "name": "ipython",
    "version": 3
   },
   "file_extension": ".py",
   "mimetype": "text/x-python",
   "name": "python",
   "nbconvert_exporter": "python",
   "pygments_lexer": "ipython3",
   "version": "3.12.3"
  }
 },
 "nbformat": 4,
 "nbformat_minor": 2
}
